{
  "nbformat": 4,
  "nbformat_minor": 0,
  "metadata": {
    "colab": {
      "name": "modelo_polinomial.ipynb",
      "provenance": [],
      "collapsed_sections": []
    },
    "kernelspec": {
      "name": "python3",
      "display_name": "Python 3"
    }
  },
  "cells": [
    {
      "cell_type": "code",
      "metadata": {
        "id": "atfevVsRfN2d"
      },
      "source": [
        "import pandas as pd\r\n",
        "import numpy as np\r\n",
        "from datetime import datetime,timedelta\r\n",
        "from sklearn.metrics import mean_squared_error\r\n",
        "from scipy.optimize import curve_fit\r\n",
        "from scipy.optimize import fsolve\r\n",
        "from sklearn import linear_model\r\n",
        "import matplotlib.pyplot as plt\r\n",
        "%matplotlib inline"
      ],
      "execution_count": 1,
      "outputs": []
    },
    {
      "cell_type": "code",
      "metadata": {
        "colab": {
          "base_uri": "https://localhost:8080/",
          "height": 419
        },
        "id": "qk2ZLx79fZJ2",
        "outputId": "586d3e3d-c253-4020-824d-addfe4c95906"
      },
      "source": [
        "url = 'http://cowid.netlify.com/data/full_data.csv'\r\n",
        "\r\n",
        "df = pd.read_csv(url)\r\n",
        "df"
      ],
      "execution_count": 2,
      "outputs": [
        {
          "output_type": "execute_result",
          "data": {
            "text/html": [
              "<div>\n",
              "<style scoped>\n",
              "    .dataframe tbody tr th:only-of-type {\n",
              "        vertical-align: middle;\n",
              "    }\n",
              "\n",
              "    .dataframe tbody tr th {\n",
              "        vertical-align: top;\n",
              "    }\n",
              "\n",
              "    .dataframe thead th {\n",
              "        text-align: right;\n",
              "    }\n",
              "</style>\n",
              "<table border=\"1\" class=\"dataframe\">\n",
              "  <thead>\n",
              "    <tr style=\"text-align: right;\">\n",
              "      <th></th>\n",
              "      <th>date</th>\n",
              "      <th>location</th>\n",
              "      <th>new_cases</th>\n",
              "      <th>new_deaths</th>\n",
              "      <th>total_cases</th>\n",
              "      <th>total_deaths</th>\n",
              "    </tr>\n",
              "  </thead>\n",
              "  <tbody>\n",
              "    <tr>\n",
              "      <th>0</th>\n",
              "      <td>2020-02-25</td>\n",
              "      <td>Afghanistan</td>\n",
              "      <td>NaN</td>\n",
              "      <td>NaN</td>\n",
              "      <td>1</td>\n",
              "      <td>NaN</td>\n",
              "    </tr>\n",
              "    <tr>\n",
              "      <th>1</th>\n",
              "      <td>2020-02-26</td>\n",
              "      <td>Afghanistan</td>\n",
              "      <td>0.0</td>\n",
              "      <td>NaN</td>\n",
              "      <td>1</td>\n",
              "      <td>NaN</td>\n",
              "    </tr>\n",
              "    <tr>\n",
              "      <th>2</th>\n",
              "      <td>2020-02-27</td>\n",
              "      <td>Afghanistan</td>\n",
              "      <td>0.0</td>\n",
              "      <td>NaN</td>\n",
              "      <td>1</td>\n",
              "      <td>NaN</td>\n",
              "    </tr>\n",
              "    <tr>\n",
              "      <th>3</th>\n",
              "      <td>2020-02-28</td>\n",
              "      <td>Afghanistan</td>\n",
              "      <td>0.0</td>\n",
              "      <td>NaN</td>\n",
              "      <td>1</td>\n",
              "      <td>NaN</td>\n",
              "    </tr>\n",
              "    <tr>\n",
              "      <th>4</th>\n",
              "      <td>2020-02-29</td>\n",
              "      <td>Afghanistan</td>\n",
              "      <td>0.0</td>\n",
              "      <td>NaN</td>\n",
              "      <td>1</td>\n",
              "      <td>NaN</td>\n",
              "    </tr>\n",
              "    <tr>\n",
              "      <th>...</th>\n",
              "      <td>...</td>\n",
              "      <td>...</td>\n",
              "      <td>...</td>\n",
              "      <td>...</td>\n",
              "      <td>...</td>\n",
              "      <td>...</td>\n",
              "    </tr>\n",
              "    <tr>\n",
              "      <th>2862</th>\n",
              "      <td>2020-03-13</td>\n",
              "      <td>World</td>\n",
              "      <td>7488.0</td>\n",
              "      <td>338.0</td>\n",
              "      <td>132758</td>\n",
              "      <td>4956.0</td>\n",
              "    </tr>\n",
              "    <tr>\n",
              "      <th>2863</th>\n",
              "      <td>2020-03-14</td>\n",
              "      <td>World</td>\n",
              "      <td>9761.0</td>\n",
              "      <td>433.0</td>\n",
              "      <td>142534</td>\n",
              "      <td>5392.0</td>\n",
              "    </tr>\n",
              "    <tr>\n",
              "      <th>2864</th>\n",
              "      <td>2020-03-15</td>\n",
              "      <td>World</td>\n",
              "      <td>10967.0</td>\n",
              "      <td>343.0</td>\n",
              "      <td>153517</td>\n",
              "      <td>5735.0</td>\n",
              "    </tr>\n",
              "    <tr>\n",
              "      <th>2865</th>\n",
              "      <td>2020-03-16</td>\n",
              "      <td>World</td>\n",
              "      <td>13971.0</td>\n",
              "      <td>855.0</td>\n",
              "      <td>167506</td>\n",
              "      <td>6606.0</td>\n",
              "    </tr>\n",
              "    <tr>\n",
              "      <th>2866</th>\n",
              "      <td>2020-03-17</td>\n",
              "      <td>World</td>\n",
              "      <td>11594.0</td>\n",
              "      <td>819.0</td>\n",
              "      <td>179112</td>\n",
              "      <td>7426.0</td>\n",
              "    </tr>\n",
              "  </tbody>\n",
              "</table>\n",
              "<p>2867 rows × 6 columns</p>\n",
              "</div>"
            ],
            "text/plain": [
              "            date     location  new_cases  new_deaths  total_cases  total_deaths\n",
              "0     2020-02-25  Afghanistan        NaN         NaN            1           NaN\n",
              "1     2020-02-26  Afghanistan        0.0         NaN            1           NaN\n",
              "2     2020-02-27  Afghanistan        0.0         NaN            1           NaN\n",
              "3     2020-02-28  Afghanistan        0.0         NaN            1           NaN\n",
              "4     2020-02-29  Afghanistan        0.0         NaN            1           NaN\n",
              "...          ...          ...        ...         ...          ...           ...\n",
              "2862  2020-03-13        World     7488.0       338.0       132758        4956.0\n",
              "2863  2020-03-14        World     9761.0       433.0       142534        5392.0\n",
              "2864  2020-03-15        World    10967.0       343.0       153517        5735.0\n",
              "2865  2020-03-16        World    13971.0       855.0       167506        6606.0\n",
              "2866  2020-03-17        World    11594.0       819.0       179112        7426.0\n",
              "\n",
              "[2867 rows x 6 columns]"
            ]
          },
          "metadata": {
            "tags": []
          },
          "execution_count": 2
        }
      ]
    },
    {
      "cell_type": "code",
      "metadata": {
        "colab": {
          "base_uri": "https://localhost:8080/",
          "height": 576
        },
        "id": "oTS4XHokfbCq",
        "outputId": "797e960b-1739-4a81-aca0-0b5be06f22fc"
      },
      "source": [
        "df = df[df['location'].isin(['Ecuador'])] #Filtro la Informacion solo para Ecuador\r\n",
        "df = df.loc[:,['date','total_cases']] #Selecciono las columnas de analasis\r\n",
        "# Expresar las fechas en numero de dias desde el 01 Enero\r\n",
        "FMT = '%Y-%m-%d'\r\n",
        "date = df['date']\r\n",
        "df['date'] = date.map(lambda x : (datetime.strptime(x, FMT) - datetime.strptime(\"2020-01-01\", FMT)).days)\r\n",
        "\r\n",
        "df"
      ],
      "execution_count": 3,
      "outputs": [
        {
          "output_type": "execute_result",
          "data": {
            "text/html": [
              "<div>\n",
              "<style scoped>\n",
              "    .dataframe tbody tr th:only-of-type {\n",
              "        vertical-align: middle;\n",
              "    }\n",
              "\n",
              "    .dataframe tbody tr th {\n",
              "        vertical-align: top;\n",
              "    }\n",
              "\n",
              "    .dataframe thead th {\n",
              "        text-align: right;\n",
              "    }\n",
              "</style>\n",
              "<table border=\"1\" class=\"dataframe\">\n",
              "  <thead>\n",
              "    <tr style=\"text-align: right;\">\n",
              "      <th></th>\n",
              "      <th>date</th>\n",
              "      <th>total_cases</th>\n",
              "    </tr>\n",
              "  </thead>\n",
              "  <tbody>\n",
              "    <tr>\n",
              "      <th>681</th>\n",
              "      <td>60</td>\n",
              "      <td>1</td>\n",
              "    </tr>\n",
              "    <tr>\n",
              "      <th>682</th>\n",
              "      <td>61</td>\n",
              "      <td>1</td>\n",
              "    </tr>\n",
              "    <tr>\n",
              "      <th>683</th>\n",
              "      <td>62</td>\n",
              "      <td>6</td>\n",
              "    </tr>\n",
              "    <tr>\n",
              "      <th>684</th>\n",
              "      <td>63</td>\n",
              "      <td>7</td>\n",
              "    </tr>\n",
              "    <tr>\n",
              "      <th>685</th>\n",
              "      <td>64</td>\n",
              "      <td>7</td>\n",
              "    </tr>\n",
              "    <tr>\n",
              "      <th>686</th>\n",
              "      <td>65</td>\n",
              "      <td>13</td>\n",
              "    </tr>\n",
              "    <tr>\n",
              "      <th>687</th>\n",
              "      <td>66</td>\n",
              "      <td>14</td>\n",
              "    </tr>\n",
              "    <tr>\n",
              "      <th>688</th>\n",
              "      <td>67</td>\n",
              "      <td>14</td>\n",
              "    </tr>\n",
              "    <tr>\n",
              "      <th>689</th>\n",
              "      <td>68</td>\n",
              "      <td>15</td>\n",
              "    </tr>\n",
              "    <tr>\n",
              "      <th>690</th>\n",
              "      <td>69</td>\n",
              "      <td>15</td>\n",
              "    </tr>\n",
              "    <tr>\n",
              "      <th>691</th>\n",
              "      <td>70</td>\n",
              "      <td>15</td>\n",
              "    </tr>\n",
              "    <tr>\n",
              "      <th>692</th>\n",
              "      <td>71</td>\n",
              "      <td>17</td>\n",
              "    </tr>\n",
              "    <tr>\n",
              "      <th>693</th>\n",
              "      <td>72</td>\n",
              "      <td>17</td>\n",
              "    </tr>\n",
              "    <tr>\n",
              "      <th>694</th>\n",
              "      <td>73</td>\n",
              "      <td>23</td>\n",
              "    </tr>\n",
              "    <tr>\n",
              "      <th>695</th>\n",
              "      <td>74</td>\n",
              "      <td>23</td>\n",
              "    </tr>\n",
              "    <tr>\n",
              "      <th>696</th>\n",
              "      <td>75</td>\n",
              "      <td>37</td>\n",
              "    </tr>\n",
              "    <tr>\n",
              "      <th>697</th>\n",
              "      <td>76</td>\n",
              "      <td>58</td>\n",
              "    </tr>\n",
              "  </tbody>\n",
              "</table>\n",
              "</div>"
            ],
            "text/plain": [
              "     date  total_cases\n",
              "681    60            1\n",
              "682    61            1\n",
              "683    62            6\n",
              "684    63            7\n",
              "685    64            7\n",
              "686    65           13\n",
              "687    66           14\n",
              "688    67           14\n",
              "689    68           15\n",
              "690    69           15\n",
              "691    70           15\n",
              "692    71           17\n",
              "693    72           17\n",
              "694    73           23\n",
              "695    74           23\n",
              "696    75           37\n",
              "697    76           58"
            ]
          },
          "metadata": {
            "tags": []
          },
          "execution_count": 3
        }
      ]
    },
    {
      "cell_type": "code",
      "metadata": {
        "colab": {
          "base_uri": "https://localhost:8080/",
          "height": 297
        },
        "id": "tY5b5edpfhBq",
        "outputId": "32a4beb8-31fe-4b97-9169-8de3b681960b"
      },
      "source": [
        "df.plot(x ='date', y='total_cases')"
      ],
      "execution_count": 4,
      "outputs": [
        {
          "output_type": "execute_result",
          "data": {
            "text/plain": [
              "<matplotlib.axes._subplots.AxesSubplot at 0x7fe016c3b0f0>"
            ]
          },
          "metadata": {
            "tags": []
          },
          "execution_count": 4
        },
        {
          "output_type": "display_data",
          "data": {
            "image/png": "[encoded data removed]",
            "text/plain": [
              "<Figure size 432x288 with 1 Axes>"
            ]
          },
          "metadata": {
            "tags": [],
            "needs_background": "light"
          }
        }
      ]
    },
    {
      "cell_type": "markdown",
      "metadata": {
        "id": "VjkmboVTflaq"
      },
      "source": [
        "### Modelo Lineal"
      ]
    },
    {
      "cell_type": "code",
      "metadata": {
        "colab": {
          "base_uri": "https://localhost:8080/"
        },
        "id": "-UX_OD3Dfp_a",
        "outputId": "82e232fc-7084-431f-a856-45470186b725"
      },
      "source": [
        "x = list(df.iloc [:, 0]) # Fecha\r\n",
        "y = list(df.iloc [:, 1]) # Numero de casos\r\n",
        "# Creamos el objeto de Regresión Lineal\r\n",
        "regr = linear_model.LinearRegression()\r\n",
        " \r\n",
        "# Entrenamos nuestro modelo\r\n",
        "regr.fit(np.array(x).reshape(-1, 1) ,y)\r\n",
        "\r\n",
        "# Veamos los coeficienetes obtenidos, En nuestro caso, serán la Tangente\r\n",
        "print('Coefficients: \\n', regr.coef_)\r\n",
        "# Este es el valor donde corta el eje Y (en X=0)\r\n",
        "print('Independent term: \\n', regr.intercept_)\r\n",
        "# Error Cuadrado Medio"
      ],
      "execution_count": 5,
      "outputs": [
        {
          "output_type": "stream",
          "text": [
            "Coefficients: \n",
            " [2.31617647]\n",
            "Independent term: \n",
            " -140.85294117647064\n"
          ],
          "name": "stdout"
        }
      ]
    },
    {
      "cell_type": "code",
      "metadata": {
        "colab": {
          "base_uri": "https://localhost:8080/"
        },
        "id": "j6iIauO2fu_1",
        "outputId": "1d6141a4-0b57-4306-86c3-7ddc8aef98b9"
      },
      "source": [
        "#Vamos a comprobar:\r\n",
        "# Quiero predecir cuántos \"Casos\" voy a obtener por en el dia 100,\r\n",
        "# según nuestro modelo, hacemos:\r\n",
        "y_prediccion = regr.predict([[100]])\r\n",
        "print(int(y_prediccion))"
      ],
      "execution_count": 6,
      "outputs": [
        {
          "output_type": "stream",
          "text": [
            "90\n"
          ],
          "name": "stdout"
        }
      ]
    },
    {
      "cell_type": "code",
      "metadata": {
        "colab": {
          "base_uri": "https://localhost:8080/",
          "height": 316
        },
        "id": "EA_F2BL2fxg6",
        "outputId": "0f578d93-5461-442c-95fa-5039f47380b8"
      },
      "source": [
        "#Graficar\r\n",
        "plt.scatter(x, y)\r\n",
        "x_real = np.array(range(50, 100))\r\n",
        "print(x_real)\r\n",
        "plt.plot(x_real, regr.predict(x_real.reshape(-1, 1)), color='green')\r\n",
        "plt.show()"
      ],
      "execution_count": 7,
      "outputs": [
        {
          "output_type": "stream",
          "text": [
            "[50 51 52 53 54 55 56 57 58 59 60 61 62 63 64 65 66 67 68 69 70 71 72 73\n",
            " 74 75 76 77 78 79 80 81 82 83 84 85 86 87 88 89 90 91 92 93 94 95 96 97\n",
            " 98 99]\n"
          ],
          "name": "stdout"
        },
        {
          "output_type": "display_data",
          "data": {
            "image/png": "[encoded data removed]",
            "text/plain": [
              "<Figure size 432x288 with 1 Axes>"
            ]
          },
          "metadata": {
            "tags": [],
            "needs_background": "light"
          }
        }
      ]
    },
    {
      "cell_type": "markdown",
      "metadata": {
        "id": "cqm-4z_of4jL"
      },
      "source": [
        "### Modelo Logistico"
      ]
    },
    {
      "cell_type": "code",
      "metadata": {
        "colab": {
          "base_uri": "https://localhost:8080/"
        },
        "id": "sg2hmvc9f7Pi",
        "outputId": "c4e24a17-ca0f-4ff4-cd7f-50a52e1577ac"
      },
      "source": [
        "def modelo_logistico(x,a,b):\r\n",
        "    return a+b*np.log(x)\r\n",
        "\r\n",
        "exp_fit = curve_fit(modelo_logistico,x,y) #Extraemos los valores de los paramatros\r\n",
        "print(exp_fit)"
      ],
      "execution_count": 8,
      "outputs": [
        {
          "output_type": "stream",
          "text": [
            "(array([-637.69367899,  155.1710206 ]), array([[11872.54041469, -2814.63865054],\n",
            "       [-2814.63865054,   667.4662425 ]]))\n"
          ],
          "name": "stdout"
        }
      ]
    },
    {
      "cell_type": "code",
      "metadata": {
        "colab": {
          "base_uri": "https://localhost:8080/",
          "height": 450
        },
        "id": "JxDn7S56gAQS",
        "outputId": "d9d93235-0c14-47fa-f582-6d4385c4d49e"
      },
      "source": [
        "\r\n",
        "pred_x = list(range(min(x),max(x)+50)) # Predecir 50 dias mas\r\n",
        "plt.rcParams['figure.figsize'] = [7, 7]\r\n",
        "plt.rc('font', size=14)\r\n",
        "# Real data\r\n",
        "plt.scatter(x,y,label=\"Datos Reales\",color=\"red\")\r\n",
        "# Predicted exponential curve\r\n",
        "plt.plot(pred_x, [modelo_logistico(i,exp_fit[0][0],exp_fit[0][1]) for i in pred_x], label=\"Modelo Logistico\" )\r\n",
        "plt.legend()\r\n",
        "plt.xlabel(\"Desde el 1 Enero 2020\")\r\n",
        "plt.ylabel(\"Total de personas infectadas\")\r\n",
        "plt.ylim((min(y)*0.9,max(y)*3.1)) # Definir los limites de Y\r\n",
        "plt.show()"
      ],
      "execution_count": 9,
      "outputs": [
        {
          "output_type": "display_data",
          "data": {
            "image/png": "[encoded data removed]",
            "text/plain": [
              "<Figure size 504x504 with 1 Axes>"
            ]
          },
          "metadata": {
            "tags": [],
            "needs_background": "light"
          }
        }
      ]
    },
    {
      "cell_type": "markdown",
      "metadata": {
        "id": "6Z5tfu7PgCmS"
      },
      "source": [
        "### Modelo Polinomial"
      ]
    },
    {
      "cell_type": "code",
      "metadata": {
        "colab": {
          "base_uri": "https://localhost:8080/",
          "height": 483
        },
        "id": "9oedg8zVgFT6",
        "outputId": "4edf8f0b-b630-4563-ff1d-10145749ada4"
      },
      "source": [
        "from pylab import *  \r\n",
        "import numpy as np\r\n",
        "import pandas as pd\r\n",
        "import sympy as sp\r\n",
        "\r\n",
        "# creamos algunas muestras aleatorias, en las que el numero de ventas de productos  \r\n",
        "# se reduzca a medida que aumenta su precio  \r\n",
        "np.random.seed(2)  \r\n",
        "itemPrices = np.random.normal(3.0, 1.0, 1000)  \r\n",
        "purchaseAmount = np.random.normal(50.0, 10.0, 1000) / itemPrices\r\n",
        "\r\n",
        "# calculamos la curva polinomica de 4 grado que se ajusta a los datos  \r\n",
        "# usando la funcion polyfit  \r\n",
        "x = np.array(itemPrices)  \r\n",
        "y = np.array(purchaseAmount)\r\n",
        "\r\n",
        "p4 = np.poly1d(np.polyfit(x, y, 4))\r\n",
        "print(\"Función Resultado\")\r\n",
        "print(p4)\r\n",
        "# pintamos la muestra y la funcion polinomica en rojo para ver como se ajusta  \r\n",
        "import matplotlib.pyplot as plt\r\n",
        "\r\n",
        "xp = np.linspace(0, 7, 100)  \r\n",
        "plt.scatter(x, y)  \r\n",
        "plt.plot(xp, p4(xp), c='r')  \r\n",
        "plt.show()"
      ],
      "execution_count": 10,
      "outputs": [
        {
          "output_type": "stream",
          "text": [
            "Función Resultado\n",
            "        4         3         2\n",
            "0.5401 x - 8.856 x + 52.25 x - 135.3 x + 147.6\n"
          ],
          "name": "stdout"
        },
        {
          "output_type": "display_data",
          "data": {
            "image/png": "[encoded data removed]",
            "text/plain": [
              "<Figure size 504x504 with 1 Axes>"
            ]
          },
          "metadata": {
            "tags": [],
            "needs_background": "light"
          }
        }
      ]
    },
    {
      "cell_type": "code",
      "metadata": {
        "colab": {
          "base_uri": "https://localhost:8080/",
          "height": 467
        },
        "id": "BNbw-TDjgUgk",
        "outputId": "e1f45776-9f85-43f2-ceb0-b845a9e27c77"
      },
      "source": [
        "df = pd.read_csv(url).fillna(0) # poniendo datos nan a cero\r\n",
        "ndf= df.loc[(df['location'] == 'Ecuador') & (df['total_cases'] != 0)] # filtrando por pais y no ceros \r\n",
        "ndf1=ndf[['date','total_cases','total_deaths']]\r\n",
        "x=np.arange(1,len(ndf1)+1,1, dtype='float') # arreglo de x lo creo para simular el numero del dia y el numero de casos\r\n",
        "y=np.array(ndf1.values[:,1], dtype='float')\r\n",
        "y1=np.array(ndf1.values[:,2],dtype='float')\r\n",
        "\r\n",
        "# Numero de Casos\r\n",
        "fun1 = np.poly1d(np.polyfit(x, y, 4))\r\n",
        "print(fun1)\r\n",
        "plt.scatter(x, y)  \r\n",
        "plt.plot(x, fun1(x), c='r')  \r\n",
        "plt.show()"
      ],
      "execution_count": 12,
      "outputs": [
        {
          "output_type": "stream",
          "text": [
            "          4          3         2\n",
            "0.007636 x - 0.2224 x + 2.013 x - 4.406 x + 4.095\n"
          ],
          "name": "stdout"
        },
        {
          "output_type": "display_data",
          "data": {
            "image/png": "[encoded data removed]",
            "text/plain": [
              "<Figure size 504x504 with 1 Axes>"
            ]
          },
          "metadata": {
            "tags": [],
            "needs_background": "light"
          }
        }
      ]
    },
    {
      "cell_type": "code",
      "metadata": {
        "colab": {
          "base_uri": "https://localhost:8080/",
          "height": 470
        },
        "id": "bgUNkvDRgfCH",
        "outputId": "618cb60a-858f-48db-8a91-ef4259545aef"
      },
      "source": [
        "fun1 = np.poly1d(np.polyfit(x, y, 4))\r\n",
        "print(fun1)\r\n",
        "plt.scatter(x, y) \r\n",
        "x1=np.arange(1,len(ndf1)+51,1, dtype='float')\r\n",
        "plt.plot(x1, fun1(x1), c='r')  \r\n",
        "plt.show()"
      ],
      "execution_count": 13,
      "outputs": [
        {
          "output_type": "stream",
          "text": [
            "          4          3         2\n",
            "0.007636 x - 0.2224 x + 2.013 x - 4.406 x + 4.095\n"
          ],
          "name": "stdout"
        },
        {
          "output_type": "display_data",
          "data": {
            "image/png": "[encoded data removed]",
            "text/plain": [
              "<Figure size 504x504 with 1 Axes>"
            ]
          },
          "metadata": {
            "tags": [],
            "needs_background": "light"
          }
        }
      ]
    },
    {
      "cell_type": "markdown",
      "metadata": {
        "id": "XYQcA_yzghu2"
      },
      "source": [
        "### Numero de Muertes"
      ]
    },
    {
      "cell_type": "code",
      "metadata": {
        "colab": {
          "base_uri": "https://localhost:8080/",
          "height": 466
        },
        "id": "fZcLKy3JgmWq",
        "outputId": "31c2ac53-3a2b-4dc9-893f-22d67a603cb9"
      },
      "source": [
        "fun1 = np.poly1d(np.polyfit(x, y1, 4))\r\n",
        "print(fun1)\r\n",
        "plt.scatter(x, y1)  \r\n",
        "plt.plot(x, fun1(x), c='r')  \r\n",
        "plt.show()"
      ],
      "execution_count": 14,
      "outputs": [
        {
          "output_type": "stream",
          "text": [
            "          4           3           2\n",
            "0.000387 x - 0.01092 x + 0.09997 x - 0.3299 x + 0.2941\n"
          ],
          "name": "stdout"
        },
        {
          "output_type": "display_data",
          "data": {
            "image/png": "[encoded data removed]",
            "text/plain": [
              "<Figure size 504x504 with 1 Axes>"
            ]
          },
          "metadata": {
            "tags": [],
            "needs_background": "light"
          }
        }
      ]
    }
  ]
}