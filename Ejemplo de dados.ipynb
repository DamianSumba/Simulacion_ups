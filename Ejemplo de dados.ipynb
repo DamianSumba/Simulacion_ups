{
 "cells": [
  {
   "cell_type": "code",
   "execution_count": 4,
   "metadata": {},
   "outputs": [
    {
     "name": "stdout",
     "output_type": "stream",
     "text": [
      "Cuantos lanzamientos:  10000\n",
      "Dados iguales,en **intentos**:  1690\n"
     ]
    }
   ],
   "source": [
    "from random import*\n",
    "n=int(input(\"Cuantos lanzamientos:  \"))\n",
    "c=0\n",
    "for i in range(n):\n",
    "    d1=randint(1,6)\n",
    "    d2=randint(1,6)\n",
    "    if d1==d2:\n",
    "        c=c+1\n",
    "print(\"Dados iguales,en **intentos**: \",c)"
   ]
  },
  {
   "cell_type": "markdown",
   "metadata": {},
   "source": [
    "### Lazamiento de dos dados\n",
    "En este ejemplo lanzaremos dos dados, y veremos cuantos lanzamientos se necesita para que estos dados den como rresultado numeros iguales.\n",
    "\n",
    " - En el primer caso lanzamos 10 veces, el resultado es que en 1 intento se repitieron los resultados de los dados.\n",
    " - En el segundo caso lanzamos 100 veces, el resultado es que en 7 intento se repitieron los resultados de los dados.\n",
    " - En el tercer caso lanzamos 1000 veces, el resultado es que en 160 intento se repitieron los resultados de los dados.\n",
    " - En el cuarto caso lanzamos 10.000 veces, el resultado es que en 1690 intento se repitieron los resultados de los dados."
   ]
  }
 ],
 "metadata": {
  "kernelspec": {
   "display_name": "Python 3",
   "language": "python",
   "name": "python3"
  },
  "language_info": {
   "codemirror_mode": {
    "name": "ipython",
    "version": 3
   },
   "file_extension": ".py",
   "mimetype": "text/x-python",
   "name": "python",
   "nbconvert_exporter": "python",
   "pygments_lexer": "ipython3",
   "version": "3.8.3"
  }
 },
 "nbformat": 4,
 "nbformat_minor": 4
}
